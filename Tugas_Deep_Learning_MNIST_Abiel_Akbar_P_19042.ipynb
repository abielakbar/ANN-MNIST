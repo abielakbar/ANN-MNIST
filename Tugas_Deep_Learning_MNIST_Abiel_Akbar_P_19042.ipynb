{
  "cells": [
    {
      "cell_type": "code",
      "execution_count": 1,
      "id": "3d0111a7-a941-4faf-8b09-28862e3b0f02",
      "metadata": {
        "id": "3d0111a7-a941-4faf-8b09-28862e3b0f02"
      },
      "outputs": [],
      "source": [
        "import numpy as np #library operasi numerical\n",
        "import matplotlib.pyplot as plt #visualisasi data\n",
        "%matplotlib inline\n",
        "import keras #Library untuk pembangunan model\n",
        "from keras.models import Sequential\n",
        "from keras.layers import Dense, Dropout"
      ]
    },
    {
      "cell_type": "code",
      "execution_count": 2,
      "id": "69beb400-238b-4e4e-a4a9-0fb0392ec943",
      "metadata": {
        "id": "69beb400-238b-4e4e-a4a9-0fb0392ec943"
      },
      "outputs": [],
      "source": [
        "np.random.seed(0) "
      ]
    },
    {
      "cell_type": "code",
      "execution_count": 3,
      "id": "81eea8a0-7da2-4602-994c-e5c6335d19f6",
      "metadata": {
        "id": "81eea8a0-7da2-4602-994c-e5c6335d19f6",
        "colab": {
          "base_uri": "https://localhost:8080/"
        },
        "outputId": "d884ac97-3806-4f0d-fb60-5c0e9a7aeff3"
      },
      "outputs": [
        {
          "output_type": "stream",
          "name": "stdout",
          "text": [
            "Downloading data from https://storage.googleapis.com/tensorflow/tf-keras-datasets/mnist.npz\n",
            "11493376/11490434 [==============================] - 0s 0us/step\n",
            "11501568/11490434 [==============================] - 0s 0us/step\n"
          ]
        }
      ],
      "source": [
        "from keras.datasets import mnist #import library MNIST\n",
        "(x_train, y_train), (x_test, y_test) = mnist.load_data() #load data set MNIST"
      ]
    },
    {
      "cell_type": "code",
      "execution_count": 4,
      "id": "829b7dee-a3df-42de-8551-2054cf9b54b5",
      "metadata": {
        "colab": {
          "base_uri": "https://localhost:8080/"
        },
        "id": "829b7dee-a3df-42de-8551-2054cf9b54b5",
        "outputId": "fb87ae60-13e6-4734-ac6e-a9a78cf15eb8"
      },
      "outputs": [
        {
          "output_type": "stream",
          "name": "stdout",
          "text": [
            "(60000, 28, 28) (60000,)\n",
            "(10000, 28, 28) (10000,)\n"
          ]
        }
      ],
      "source": [
        "print(x_train.shape, y_train.shape)\n",
        "print(x_test.shape, y_test.shape)"
      ]
    },
    {
      "cell_type": "code",
      "execution_count": 5,
      "id": "b22968dc-8036-46c5-9989-a88757959069",
      "metadata": {
        "colab": {
          "base_uri": "https://localhost:8080/",
          "height": 160
        },
        "id": "b22968dc-8036-46c5-9989-a88757959069",
        "outputId": "7df569b7-b7e7-4962-85da-bb455aafca8a"
      },
      "outputs": [
        {
          "output_type": "display_data",
          "data": {
            "text/plain": [
              "<Figure size 1440x1440 with 10 Axes>"
            ],
            "image/png": "[encoded data removed]"
          },
          "metadata": {
            "needs_background": "light"
          }
        }
      ],
      "source": [
        "#Menampilkan sample data dari keseluruhan data set, berdasar kelas\n",
        "#Terdapat 10 kelas yaitu dari angka 0 hingga 9\n",
        "num_classes = 10\n",
        "f, ax = plt.subplots(1, num_classes, figsize=(20,20))\n",
        "\n",
        "for i in range(0, num_classes):\n",
        "\tsample = x_train[y_train == i][0]\n",
        "\tax[i].imshow(sample, cmap='gray')\n",
        "\tax[i].set_title(\"Label: {}\".format(i), fontsize=16)"
      ]
    },
    {
      "cell_type": "code",
      "execution_count": 6,
      "id": "77ef6ad2-322e-4084-ad55-df78eddce229",
      "metadata": {
        "id": "77ef6ad2-322e-4084-ad55-df78eddce229",
        "colab": {
          "base_uri": "https://localhost:8080/"
        },
        "outputId": "8147ee8a-20d9-422e-e682-6eb410115ebb"
      },
      "outputs": [
        {
          "output_type": "stream",
          "name": "stdout",
          "text": [
            "(60000, 10)\n",
            "(10000, 10)\n"
          ]
        }
      ],
      "source": [
        "# Mekonversi data set menjadi matriks\n",
        "y_train = keras.utils.np_utils.to_categorical(y_train, num_classes)\n",
        "y_test = keras.utils.np_utils.to_categorical(y_test, num_classes)\n",
        "\n",
        "print(y_train.shape)\n",
        "print(y_test.shape)"
      ]
    },
    {
      "cell_type": "code",
      "execution_count": 7,
      "id": "67b1d08e-a699-4fd9-9d1b-856cf9b0db59",
      "metadata": {
        "id": "67b1d08e-a699-4fd9-9d1b-856cf9b0db59"
      },
      "outputs": [],
      "source": [
        "#Normalisasi data dengan nilai rgb untuk warna putih (255)\n",
        "x_train = x_train / 255.0\n",
        "x_test = x_test / 255.0"
      ]
    },
    {
      "cell_type": "code",
      "execution_count": 8,
      "id": "59a90ce2-2a42-4b55-bffc-dd3fa8417b99",
      "metadata": {
        "colab": {
          "base_uri": "https://localhost:8080/"
        },
        "id": "59a90ce2-2a42-4b55-bffc-dd3fa8417b99",
        "outputId": "5e62f05c-4969-46cc-d19d-06dc52bbe8b8"
      },
      "outputs": [
        {
          "output_type": "stream",
          "name": "stdout",
          "text": [
            "x_train shape:  (60000, 784)\n",
            "x_test shape:  (10000, 784)\n"
          ]
        }
      ],
      "source": [
        "#transform matriks ke 1 dimensi\n",
        "x_train = x_train.reshape(x_train.shape[0], -1)\n",
        "x_test = x_test.reshape(x_test.shape[0], -1)\n",
        "print(\"x_train shape: \", x_train.shape)\n",
        "print(\"x_test shape: \", x_test.shape)"
      ]
    },
    {
      "cell_type": "code",
      "execution_count": 14,
      "id": "c698a43f-5354-40bd-b7a9-56a4d30f5cab",
      "metadata": {
        "id": "c698a43f-5354-40bd-b7a9-56a4d30f5cab"
      },
      "outputs": [],
      "source": [
        "from keras.layers import Conv2D, MaxPooling2D, Flatten, Dense\n",
        "model2 = Sequential()\n",
        "model2.add(Dense(64,activation='relu'))\n",
        "model2.add(Dense(10,activation='softmax'))\n",
        "model2.compile(optimizer='adam',loss='categorical_crossentropy', metrics=['acc'])\n"
      ]
    },
    {
      "cell_type": "code",
      "execution_count": 15,
      "id": "c58270c8-df72-46d6-9a2c-c2a795d50d91",
      "metadata": {
        "colab": {
          "base_uri": "https://localhost:8080/"
        },
        "id": "c58270c8-df72-46d6-9a2c-c2a795d50d91",
        "outputId": "d762efb8-7930-455a-b1db-ef8002d87989"
      },
      "outputs": [
        {
          "output_type": "stream",
          "name": "stdout",
          "text": [
            "Epoch 1/10\n",
            "118/118 [==============================] - 1s 6ms/step - loss: 0.6830 - acc: 0.8270\n",
            "Epoch 2/10\n",
            "118/118 [==============================] - 1s 6ms/step - loss: 0.2813 - acc: 0.9223\n",
            "Epoch 3/10\n",
            "118/118 [==============================] - 1s 6ms/step - loss: 0.2267 - acc: 0.9377\n",
            "Epoch 4/10\n",
            "118/118 [==============================] - 1s 6ms/step - loss: 0.1944 - acc: 0.9460\n",
            "Epoch 5/10\n",
            "118/118 [==============================] - 1s 6ms/step - loss: 0.1728 - acc: 0.9518\n",
            "Epoch 6/10\n",
            "118/118 [==============================] - 1s 6ms/step - loss: 0.1549 - acc: 0.9564\n",
            "Epoch 7/10\n",
            "118/118 [==============================] - 1s 6ms/step - loss: 0.1414 - acc: 0.9600\n",
            "Epoch 8/10\n",
            "118/118 [==============================] - 1s 6ms/step - loss: 0.1293 - acc: 0.9638\n",
            "Epoch 9/10\n",
            "118/118 [==============================] - 1s 6ms/step - loss: 0.1201 - acc: 0.9664\n",
            "Epoch 10/10\n",
            "118/118 [==============================] - 1s 6ms/step - loss: 0.1113 - acc: 0.9689\n",
            "Model: \"sequential_4\"\n",
            "_________________________________________________________________\n",
            " Layer (type)                Output Shape              Param #   \n",
            "=================================================================\n",
            " dense_2 (Dense)             (None, 64)                50240     \n",
            "                                                                 \n",
            " dense_3 (Dense)             (None, 10)                650       \n",
            "                                                                 \n",
            "=================================================================\n",
            "Total params: 50,890\n",
            "Trainable params: 50,890\n",
            "Non-trainable params: 0\n",
            "_________________________________________________________________\n"
          ]
        }
      ],
      "source": [
        "#Training model\n",
        "batch_size = 512\n",
        "epochs=10\n",
        "model2.fit(x=x_train, y=y_train, batch_size=batch_size, epochs=epochs)\n",
        "model2.summary()"
      ]
    },
    {
      "cell_type": "code",
      "execution_count": 16,
      "id": "cea66d5e-60ff-4cfc-b63c-288d7909d742",
      "metadata": {
        "id": "cea66d5e-60ff-4cfc-b63c-288d7909d742",
        "colab": {
          "base_uri": "https://localhost:8080/"
        },
        "outputId": "f8ea9cab-d835-419f-fbbb-90f95fd955fa"
      },
      "outputs": [
        {
          "output_type": "stream",
          "name": "stdout",
          "text": [
            "313/313 [==============================] - 1s 1ms/step - loss: 0.1239 - acc: 0.9630\n",
            "Test Loss: 12.38948255777359%, Test Accuracy: 96.29999995231628%\n"
          ]
        }
      ],
      "source": [
        "#Evaluasi Model\n",
        "test_loss, test_acc = model2.evaluate(x_test, y_test)\n",
        "test_acc = test_acc * 100\n",
        "test_loss = test_loss * 100\n",
        "print(\"Test Loss: {}%, Test Accuracy: {}%\".format(test_loss, test_acc))"
      ]
    },
    {
      "cell_type": "code",
      "execution_count": 17,
      "id": "6ab47750-c9df-4d15-9dad-884095f1f955",
      "metadata": {
        "id": "6ab47750-c9df-4d15-9dad-884095f1f955",
        "colab": {
          "base_uri": "https://localhost:8080/"
        },
        "outputId": "4a80de93-3de6-4dc6-e373-175ae1e2ba96"
      },
      "outputs": [
        {
          "output_type": "stream",
          "name": "stdout",
          "text": [
            "[[1.03772445e-05 3.06723251e-08 1.14268900e-04 ... 9.96183693e-01\n",
            "  7.97262692e-06 2.99203704e-04]\n",
            " [1.40436132e-05 1.33604929e-03 9.94333029e-01 ... 7.21904581e-09\n",
            "  6.40736907e-05 1.24471544e-08]\n",
            " [5.14318781e-05 9.84235764e-01 3.95762455e-03 ... 5.71689662e-03\n",
            "  3.61885899e-03 2.65475654e-04]\n",
            " ...\n",
            " [1.04323838e-08 8.16548251e-09 3.31926451e-08 ... 1.24983380e-05\n",
            "  1.73730296e-04 1.83933857e-03]\n",
            " [2.66919074e-07 5.12898168e-08 1.93246557e-08 ... 3.01411092e-07\n",
            "  1.81063064e-04 2.16113616e-08]\n",
            " [3.28136991e-07 5.26960364e-10 1.31799936e-06 ... 1.97347716e-09\n",
            "  7.01999958e-10 6.96497482e-09]]\n",
            "[7 2 1 ... 4 5 6]\n"
          ]
        }
      ],
      "source": [
        "y_pred = model2.predict(x_test)\n",
        "y_pred_classes = np.argmax(y_pred, axis=1)\n",
        "print(y_pred)\n",
        "print(y_pred_classes)"
      ]
    },
    {
      "cell_type": "code",
      "execution_count": 18,
      "id": "d783ee9b-ec82-48d0-950e-671919819f24",
      "metadata": {
        "id": "d783ee9b-ec82-48d0-950e-671919819f24",
        "colab": {
          "base_uri": "https://localhost:8080/",
          "height": 300
        },
        "outputId": "7f1951e1-0012-4b63-fddf-50e62c2b922b"
      },
      "outputs": [
        {
          "output_type": "execute_result",
          "data": {
            "text/plain": [
              "<matplotlib.image.AxesImage at 0x7fc9a3078cd0>"
            ]
          },
          "metadata": {},
          "execution_count": 18
        },
        {
          "output_type": "display_data",
          "data": {
            "text/plain": [
              "<Figure size 432x288 with 1 Axes>"
            ],
            "image/png": "[encoded data removed]"
          },
          "metadata": {
            "needs_background": "light"
          }
        }
      ],
      "source": [
        "#Evaluasi model dengan data testing\n",
        "random_idx = np.random.choice(len(x_test)) #mengambil random data dari data test\n",
        "x_sample = x_test[random_idx]\n",
        "y_true = np.argmax(y_test, axis=1)\n",
        "y_sample_true = y_true[random_idx]\n",
        "y_sample_pred_class = y_pred_classes[random_idx]\n",
        "\n",
        "plt.title(\"Predicted: {}, True: {}\".format(y_sample_pred_class, y_sample_true), fontsize=16)\n",
        "plt.imshow(x_sample.reshape(28, 28), cmap='gray')"
      ]
    },
    {
      "cell_type": "code",
      "source": [
        ""
      ],
      "metadata": {
        "id": "q7y4fL9uGteq"
      },
      "id": "q7y4fL9uGteq",
      "execution_count": null,
      "outputs": []
    }
  ],
  "metadata": {
    "kernelspec": {
      "display_name": "Python 3 (ipykernel)",
      "language": "python",
      "name": "python3"
    },
    "language_info": {
      "codemirror_mode": {
        "name": "ipython",
        "version": 3
      },
      "file_extension": ".py",
      "mimetype": "text/x-python",
      "name": "python",
      "nbconvert_exporter": "python",
      "pygments_lexer": "ipython3",
      "version": "3.9.10"
    },
    "colab": {
      "name": "Tugas Deep Learning-MNIST-Abiel Akbar P-19042",
      "provenance": [],
      "collapsed_sections": []
    }
  },
  "nbformat": 4,
  "nbformat_minor": 5
}